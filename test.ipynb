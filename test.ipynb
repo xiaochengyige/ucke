{
  "cells": [
    {
      "cell_type": "code",
      "execution_count": 1,
      "metadata": {},
      "outputs": [
        {
          "name": "stderr",
          "output_type": "stream",
          "text": [
            "d:\\anaconda3\\envs\\ucke\\lib\\site-packages\\tqdm\\auto.py:22: TqdmWarning: IProgress not found. Please update jupyter and ipywidgets. See https://ipywidgets.readthedocs.io/en/stable/user_install.html\n",
            "  from .autonotebook import tqdm as notebook_tqdm\n"
          ]
        }
      ],
      "source": [
        "import ucke"
      ]
    },
    {
      "attachments": {},
      "cell_type": "markdown",
      "metadata": {},
      "source": [
        "测试模型注册"
      ]
    },
    {
      "cell_type": "code",
      "execution_count": 2,
      "metadata": {},
      "outputs": [
        {
          "data": {
            "text/plain": [
              "{'EmbeddingRank': ucke.embedding_based.embedding_rank.EmbeddingRank,\n",
              " 'PatternRank': ucke.embedding_based.pattern_rank.PatternRank,\n",
              " 'SIFRank': ucke.embedding_based.sif_rank.SIFRank,\n",
              " 'SIFRank_plus': ucke.embedding_based.sif_rank.SIFRank_plus,\n",
              " 'Word2Vector': ucke.embedding_based.word_to_vector.Word2Vector,\n",
              " 'PositionRank': ucke.graph_based.position_rank.PositionRank,\n",
              " 'SingleRank': ucke.graph_based.single_rank.SingleRank,\n",
              " 'TextRank': ucke.graph_based.text_rank.TextRank,\n",
              " 'TopicRank': ucke.graph_based.topic_rank.TopicRank,\n",
              " 'TFIDF': ucke.statistics_based.tfidf.TFIDF}"
            ]
          },
          "execution_count": 2,
          "metadata": {},
          "output_type": "execute_result"
        }
      ],
      "source": [
        "ucke.models.dict"
      ]
    },
    {
      "cell_type": "code",
      "execution_count": 3,
      "metadata": {},
      "outputs": [
        {
          "data": {
            "text/plain": [
              "{'EmbeddingRank': ucke.embedding_based.embedding_rank.EmbeddingRank,\n",
              " 'PatternRank': ucke.embedding_based.pattern_rank.PatternRank,\n",
              " 'SIFRank': ucke.embedding_based.sif_rank.SIFRank,\n",
              " 'SIFRank_plus': ucke.embedding_based.sif_rank.SIFRank_plus,\n",
              " 'Word2Vector': ucke.embedding_based.word_to_vector.Word2Vector,\n",
              " 'PositionRank': ucke.graph_based.position_rank.PositionRank,\n",
              " 'SingleRank': ucke.graph_based.single_rank.SingleRank,\n",
              " 'TextRank': ucke.graph_based.text_rank.TextRank,\n",
              " 'TopicRank': ucke.graph_based.topic_rank.TopicRank,\n",
              " 'TFIDF': ucke.statistics_based.tfidf.TFIDF,\n",
              " 'customize': __main__.customize}"
            ]
          },
          "execution_count": 3,
          "metadata": {},
          "output_type": "execute_result"
        }
      ],
      "source": [
        "class customize:\n",
        "    def __init__(self) -> None:\n",
        "        pass\n",
        "\n",
        "ucke.models.register(customize)\n",
        "ucke.models.dict"
      ]
    },
    {
      "cell_type": "code",
      "execution_count": 4,
      "metadata": {},
      "outputs": [
        {
          "data": {
            "text/plain": [
              "<__main__.customize at 0x1c3ad02ddc0>"
            ]
          },
          "execution_count": 4,
          "metadata": {},
          "output_type": "execute_result"
        }
      ],
      "source": [
        "method = ucke.init_method('customize')\n",
        "method"
      ]
    },
    {
      "attachments": {},
      "cell_type": "markdown",
      "metadata": {},
      "source": [
        "测试统一接口调用"
      ]
    },
    {
      "cell_type": "code",
      "execution_count": 5,
      "metadata": {},
      "outputs": [
        {
          "name": "stderr",
          "output_type": "stream",
          "text": [
            "2022-12-26 19:11:39,752 WARNING: Could not find config.  Trying e:\\PythonProjects\\ucke\\ucke\\models\\sif_rank\\zhs.model\\cnn_50_100_512_4096_sample.json\n",
            "2022-12-26 19:11:39,770 INFO: char embedding size: 6169\n",
            "2022-12-26 19:11:39,931 INFO: word embedding size: 71222\n",
            "2022-12-26 19:11:41,564 INFO: Model(\n",
            "  (token_embedder): ConvTokenEmbedder(\n",
            "    (word_emb_layer): EmbeddingLayer(\n",
            "      (embedding): Embedding(71222, 100, padding_idx=3)\n",
            "    )\n",
            "    (char_emb_layer): EmbeddingLayer(\n",
            "      (embedding): Embedding(6169, 50, padding_idx=6166)\n",
            "    )\n",
            "    (convolutions): ModuleList(\n",
            "      (0): Conv1d(50, 32, kernel_size=(1,), stride=(1,))\n",
            "      (1): Conv1d(50, 32, kernel_size=(2,), stride=(1,))\n",
            "      (2): Conv1d(50, 64, kernel_size=(3,), stride=(1,))\n",
            "      (3): Conv1d(50, 128, kernel_size=(4,), stride=(1,))\n",
            "      (4): Conv1d(50, 256, kernel_size=(5,), stride=(1,))\n",
            "      (5): Conv1d(50, 512, kernel_size=(6,), stride=(1,))\n",
            "      (6): Conv1d(50, 1024, kernel_size=(7,), stride=(1,))\n",
            "    )\n",
            "    (highways): Highway(\n",
            "      (_layers): ModuleList(\n",
            "        (0): Linear(in_features=2048, out_features=4096, bias=True)\n",
            "        (1): Linear(in_features=2048, out_features=4096, bias=True)\n",
            "      )\n",
            "    )\n",
            "    (projection): Linear(in_features=2148, out_features=512, bias=True)\n",
            "  )\n",
            "  (encoder): ElmobiLm(\n",
            "    (forward_layer_0): LstmCellWithProjection(\n",
            "      (input_linearity): Linear(in_features=512, out_features=16384, bias=False)\n",
            "      (state_linearity): Linear(in_features=512, out_features=16384, bias=True)\n",
            "      (state_projection): Linear(in_features=4096, out_features=512, bias=False)\n",
            "    )\n",
            "    (backward_layer_0): LstmCellWithProjection(\n",
            "      (input_linearity): Linear(in_features=512, out_features=16384, bias=False)\n",
            "      (state_linearity): Linear(in_features=512, out_features=16384, bias=True)\n",
            "      (state_projection): Linear(in_features=4096, out_features=512, bias=False)\n",
            "    )\n",
            "    (forward_layer_1): LstmCellWithProjection(\n",
            "      (input_linearity): Linear(in_features=512, out_features=16384, bias=False)\n",
            "      (state_linearity): Linear(in_features=512, out_features=16384, bias=True)\n",
            "      (state_projection): Linear(in_features=4096, out_features=512, bias=False)\n",
            "    )\n",
            "    (backward_layer_1): LstmCellWithProjection(\n",
            "      (input_linearity): Linear(in_features=512, out_features=16384, bias=False)\n",
            "      (state_linearity): Linear(in_features=512, out_features=16384, bias=True)\n",
            "      (state_projection): Linear(in_features=4096, out_features=512, bias=False)\n",
            "    )\n",
            "  )\n",
            ")\n"
          ]
        },
        {
          "name": "stdout",
          "output_type": "stream",
          "text": [
            "Model loaded succeed\n"
          ]
        },
        {
          "data": {
            "text/plain": [
              "<ucke.embedding_based.sif_rank.SIFRank_plus at 0x1c4636439d0>"
            ]
          },
          "execution_count": 5,
          "metadata": {},
          "output_type": "execute_result"
        }
      ],
      "source": [
        "method = ucke.init_method('SIFRank_plus')\n",
        "method"
      ]
    },
    {
      "cell_type": "code",
      "execution_count": 6,
      "metadata": {},
      "outputs": [
        {
          "name": "stderr",
          "output_type": "stream",
          "text": [
            "2022-12-26 19:11:43,929 INFO: 1 batches, avg len: 30.3\n"
          ]
        },
        {
          "data": {
            "text/plain": [
              "[('太平天国占领区街市', 1.000033030270782),\n",
              " ('刻字铺', 0.9462025091527873),\n",
              " ('所有刻字匠人', 0.9054723074904084),\n",
              " ('太平天国礼部', 0.8961078794585672),\n",
              " ('朝勋', 0.858253234264151)]"
            ]
          },
          "execution_count": 6,
          "metadata": {},
          "output_type": "execute_result"
        }
      ],
      "source": [
        "doc = \"太平天国占领区街市没有刻字铺，所有刻字匠人都编入镌刻营，“朝勋詹记”一印应为太平天国镌刻营所出。但它不属于太平天国礼部统一制发的印章。太平天国私人便章实物从无发现，“朝勋詹记”一印的发现，弥足珍贵，它为研究太平天国用印情况及制度提供了第一手重要实物资料。 太平天国私人便章“朝勋詹记”考\"\n",
        "method.tokenize(doc)\n",
        "method.extract_keywords(5)"
      ]
    },
    {
      "attachments": {},
      "cell_type": "markdown",
      "metadata": {},
      "source": [
        "测试指定接口调用"
      ]
    },
    {
      "cell_type": "code",
      "execution_count": 7,
      "metadata": {},
      "outputs": [
        {
          "name": "stderr",
          "output_type": "stream",
          "text": [
            "Building prefix dict from the default dictionary ...\n",
            "Loading model from cache C:\\Users\\14414\\AppData\\Local\\Temp\\jieba.cache\n",
            "Loading model cost 0.386 seconds.\n",
            "Prefix dict has been built successfully.\n"
          ]
        },
        {
          "data": {
            "text/plain": [
              "<ucke.graph_based.single_rank.SingleRank at 0x1c3ad01c7c0>"
            ]
          },
          "execution_count": 7,
          "metadata": {},
          "output_type": "execute_result"
        }
      ],
      "source": [
        "method = ucke.graph_based.SingleRank()\n",
        "method"
      ]
    },
    {
      "cell_type": "code",
      "execution_count": 8,
      "metadata": {},
      "outputs": [
        {
          "data": {
            "text/plain": [
              "[('太平天国', 0.20124545258565057),\n",
              " ('实物', 0.08602549817925507),\n",
              " ('私人', 0.08036159193174869),\n",
              " ('刻字', 0.07544477933789376),\n",
              " ('统一', 0.06109131045321646)]"
            ]
          },
          "execution_count": 8,
          "metadata": {},
          "output_type": "execute_result"
        }
      ],
      "source": [
        "method.tokenize(doc)\n",
        "method.extract_keywords(5)\n"
      ]
    },
    {
      "attachments": {},
      "cell_type": "markdown",
      "metadata": {},
      "source": [
        "测试数据集"
      ]
    },
    {
      "cell_type": "code",
      "execution_count": 9,
      "metadata": {},
      "outputs": [],
      "source": [
        "dataset = ucke.KEDataset()"
      ]
    },
    {
      "cell_type": "code",
      "execution_count": 10,
      "metadata": {},
      "outputs": [
        {
          "data": {
            "text/plain": [
              "8000"
            ]
          },
          "execution_count": 10,
          "metadata": {},
          "output_type": "execute_result"
        }
      ],
      "source": [
        "len(dataset)"
      ]
    },
    {
      "cell_type": "code",
      "execution_count": 11,
      "metadata": {},
      "outputs": [
        {
          "data": {
            "text/html": [
              "<div>\n",
              "<style scoped>\n",
              "    .dataframe tbody tr th:only-of-type {\n",
              "        vertical-align: middle;\n",
              "    }\n",
              "\n",
              "    .dataframe tbody tr th {\n",
              "        vertical-align: top;\n",
              "    }\n",
              "\n",
              "    .dataframe thead th {\n",
              "        text-align: right;\n",
              "    }\n",
              "</style>\n",
              "<table border=\"1\" class=\"dataframe\">\n",
              "  <thead>\n",
              "    <tr style=\"text-align: right;\">\n",
              "      <th></th>\n",
              "      <th>content</th>\n",
              "      <th>keywords</th>\n",
              "    </tr>\n",
              "  </thead>\n",
              "  <tbody>\n",
              "    <tr>\n",
              "      <th>0</th>\n",
              "      <td>太平天国占领区街市没有刻字铺，所有刻字匠人都编入镌刻营，“朝勋詹记”一印应为太平天国镌刻营所...</td>\n",
              "      <td>太平天国_用印制度_私人便章_朝勋</td>\n",
              "    </tr>\n",
              "    <tr>\n",
              "      <th>1</th>\n",
              "      <td>在全党开展深入学习实践科学发展观活动,是党的十七大作出的一项重大战略部署.党中央对开展这项...</td>\n",
              "      <td>理论成果_战略思想_落实科学发展观_重大战略部署_自上而下_学习实践_活动_十七大_党中央_...</td>\n",
              "    </tr>\n",
              "    <tr>\n",
              "      <th>2</th>\n",
              "      <td>采用空间工作记忆任务和真实场景图片搜索任务相结合的双任务范式,结合眼动技术将搜索过程划分为起...</td>\n",
              "      <td>空间工作记忆_场景情境一致性_视觉混乱度_真实场景搜索_眼动</td>\n",
              "    </tr>\n",
              "    <tr>\n",
              "      <th>3</th>\n",
              "      <td>本文以网型通信网问题为例建立了优化问题的数学模型,并用遗传算法并行求解该问题,该方法较好的解...</td>\n",
              "      <td>网络结构_遗传算法_网型通信网_M/M/1排队系统</td>\n",
              "    </tr>\n",
              "    <tr>\n",
              "      <th>4</th>\n",
              "      <td>随着分子生物学的不断发展,以16S rRNA/rDNA为基础的分子生物学技术已广泛用于口腔微...</td>\n",
              "      <td>基因间隔区_口腔微生物_微生物鉴定_分子生物学技术_致病微生物_相对可变性_微生物检测_分类...</td>\n",
              "    </tr>\n",
              "    <tr>\n",
              "      <th>...</th>\n",
              "      <td>...</td>\n",
              "      <td>...</td>\n",
              "    </tr>\n",
              "    <tr>\n",
              "      <th>7995</th>\n",
              "      <td>随着城镇建设的迅速发展和人们生活水平的普遍提高,家庭养花越来越讲究珍巧和品味,因此一些小巧...</td>\n",
              "      <td>花卉_矮化_处理_生活水平_家庭养花_城镇建设_市民_盆景_盆花</td>\n",
              "    </tr>\n",
              "    <tr>\n",
              "      <th>7996</th>\n",
              "      <td>在草图符号的自适应学习中,不同用户的训练样本数量可能不同,保持在不同样本数量下良好的学习效果...</td>\n",
              "      <td>符号识别_自适应学习_模板匹配_SVM_分类器组合_组件</td>\n",
              "    </tr>\n",
              "    <tr>\n",
              "      <th>7997</th>\n",
              "      <td>作者引入了公理P1)～P5),由此建立了一个和分布的舒瓦兹乘积相容的附加分布的乘积系. 一个...</td>\n",
              "      <td>附加分布_附加分布的对数次数_公理化方法</td>\n",
              "    </tr>\n",
              "    <tr>\n",
              "      <th>7998</th>\n",
              "      <td>近年来,我国企业财务管理目标的研究主要有十大观点:即利润最大化、每股盈利最大化、股东财富最大...</td>\n",
              "      <td>财务管理_财务管理目标_评价_趋势</td>\n",
              "    </tr>\n",
              "    <tr>\n",
              "      <th>7999</th>\n",
              "      <td>五年来,按照学会章程规定的宗旨和任务,做了大量的工作,不仅圆满地完成了省业务领导部门交办的...</td>\n",
              "      <td>吉林省_科学社会主义_学会_学术研讨_学术活动_理论研讨_代表会议_组织_宗旨_专家_中国_...</td>\n",
              "    </tr>\n",
              "  </tbody>\n",
              "</table>\n",
              "<p>8000 rows × 2 columns</p>\n",
              "</div>"
            ],
            "text/plain": [
              "                                                content  \\\n",
              "0     太平天国占领区街市没有刻字铺，所有刻字匠人都编入镌刻营，“朝勋詹记”一印应为太平天国镌刻营所...   \n",
              "1      在全党开展深入学习实践科学发展观活动,是党的十七大作出的一项重大战略部署.党中央对开展这项...   \n",
              "2     采用空间工作记忆任务和真实场景图片搜索任务相结合的双任务范式,结合眼动技术将搜索过程划分为起...   \n",
              "3     本文以网型通信网问题为例建立了优化问题的数学模型,并用遗传算法并行求解该问题,该方法较好的解...   \n",
              "4     随着分子生物学的不断发展,以16S rRNA/rDNA为基础的分子生物学技术已广泛用于口腔微...   \n",
              "...                                                 ...   \n",
              "7995   随着城镇建设的迅速发展和人们生活水平的普遍提高,家庭养花越来越讲究珍巧和品味,因此一些小巧...   \n",
              "7996  在草图符号的自适应学习中,不同用户的训练样本数量可能不同,保持在不同样本数量下良好的学习效果...   \n",
              "7997  作者引入了公理P1)～P5),由此建立了一个和分布的舒瓦兹乘积相容的附加分布的乘积系. 一个...   \n",
              "7998  近年来,我国企业财务管理目标的研究主要有十大观点:即利润最大化、每股盈利最大化、股东财富最大...   \n",
              "7999   五年来,按照学会章程规定的宗旨和任务,做了大量的工作,不仅圆满地完成了省业务领导部门交办的...   \n",
              "\n",
              "                                               keywords  \n",
              "0                                     太平天国_用印制度_私人便章_朝勋  \n",
              "1     理论成果_战略思想_落实科学发展观_重大战略部署_自上而下_学习实践_活动_十七大_党中央_...  \n",
              "2                        空间工作记忆_场景情境一致性_视觉混乱度_真实场景搜索_眼动  \n",
              "3                             网络结构_遗传算法_网型通信网_M/M/1排队系统  \n",
              "4     基因间隔区_口腔微生物_微生物鉴定_分子生物学技术_致病微生物_相对可变性_微生物检测_分类...  \n",
              "...                                                 ...  \n",
              "7995                   花卉_矮化_处理_生活水平_家庭养花_城镇建设_市民_盆景_盆花  \n",
              "7996                       符号识别_自适应学习_模板匹配_SVM_分类器组合_组件  \n",
              "7997                               附加分布_附加分布的对数次数_公理化方法  \n",
              "7998                                  财务管理_财务管理目标_评价_趋势  \n",
              "7999  吉林省_科学社会主义_学会_学术研讨_学术活动_理论研讨_代表会议_组织_宗旨_专家_中国_...  \n",
              "\n",
              "[8000 rows x 2 columns]"
            ]
          },
          "execution_count": 11,
          "metadata": {},
          "output_type": "execute_result"
        }
      ],
      "source": [
        "dataset.get_data()"
      ]
    },
    {
      "cell_type": "code",
      "execution_count": 12,
      "metadata": {},
      "outputs": [
        {
          "data": {
            "text/plain": [
              "content     太平天国占领区街市没有刻字铺，所有刻字匠人都编入镌刻营，“朝勋詹记”一印应为太平天国镌刻营所...\n",
              "keywords                                    太平天国_用印制度_私人便章_朝勋\n",
              "Name: 0, dtype: object"
            ]
          },
          "execution_count": 12,
          "metadata": {},
          "output_type": "execute_result"
        }
      ],
      "source": [
        "dataset.get_data(0)"
      ]
    },
    {
      "cell_type": "code",
      "execution_count": 13,
      "metadata": {},
      "outputs": [
        {
          "data": {
            "text/plain": [
              "'太平天国占领区街市没有刻字铺，所有刻字匠人都编入镌刻营，“朝勋詹记”一印应为太平天国镌刻营所出。但它不属于太平天国礼部统一制发的印章。太平天国私人便章实物从无发现，“朝勋詹记”一印的发现，弥足珍贵，它为研究太平天国用印情况及制度提供了第一手重要实物资料。 太平天国私人便章“朝勋詹记”考'"
            ]
          },
          "execution_count": 13,
          "metadata": {},
          "output_type": "execute_result"
        }
      ],
      "source": [
        "dataset.get_data(0).content"
      ]
    },
    {
      "cell_type": "code",
      "execution_count": 14,
      "metadata": {},
      "outputs": [
        {
          "data": {
            "text/plain": [
              "'太平天国_用印制度_私人便章_朝勋'"
            ]
          },
          "execution_count": 14,
          "metadata": {},
          "output_type": "execute_result"
        }
      ],
      "source": [
        "dataset.get_data(0).keywords"
      ]
    },
    {
      "cell_type": "code",
      "execution_count": 15,
      "metadata": {},
      "outputs": [
        {
          "data": {
            "text/plain": [
              "0.25"
            ]
          },
          "execution_count": 15,
          "metadata": {},
          "output_type": "execute_result"
        }
      ],
      "source": [
        "dataset.evaluate(0)"
      ]
    }
  ],
  "metadata": {
    "kernelspec": {
      "display_name": "ucke",
      "language": "python",
      "name": "python3"
    },
    "language_info": {
      "codemirror_mode": {
        "name": "ipython",
        "version": 3
      },
      "file_extension": ".py",
      "mimetype": "text/x-python",
      "name": "python",
      "nbconvert_exporter": "python",
      "pygments_lexer": "ipython3",
      "version": "3.8.15"
    },
    "orig_nbformat": 4,
    "vscode": {
      "interpreter": {
        "hash": "cb471d53c5f71c5594a55ad0e91217105299615410837912324f3d6bc9ee0971"
      }
    }
  },
  "nbformat": 4,
  "nbformat_minor": 2
}
